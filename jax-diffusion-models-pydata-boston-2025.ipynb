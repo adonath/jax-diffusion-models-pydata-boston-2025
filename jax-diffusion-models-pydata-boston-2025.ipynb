{
 "cells": [
  {
   "cell_type": "markdown",
   "metadata": {},
   "source": [
    "# A Beginner's Friendly Introduction to Diffusion Models in JAX\n",
    "\n",
    "**Axel Donath** | PyData Meeting Boston June 18th, 2025 \n",
    "\n",
    "\n",
    "**Who Am I?**\n",
    "I am a Postdoctoral Researcher at the Center for Astrophysics | Harvard & Smithsonian where I research in the field X-Ray and Gamma-Ray Astronomy. I develop new AI, machine learning and statistical methods as well as scientific open source software for the analysis of astronomical low counts data. I'm also editor for the Astronomy and Astrophysics track of the Journal of Open Source Software [JOSS](https://joss.theoj.org).\n",
    "\n",
    "You can find out more about me and my work at:\n",
    "\n",
    "- https://axeldonath.com\n",
    "- https://github.com/adonath\n",
    "\n",
    "\n",
    "This tutorial notebook is a beginner's friendly introduction to diffusion models in JAX. It is mostly focused on introducing the core concepts of [diffusion models](https://en.wikipedia.org/wiki/Diffusion_model) from first principles along with teaching the basics of [JAX](https://docs.jax.dev/en/latest/), a differentiable, hardware accelerated, array library for deep learning and scientific computing.\n",
    "\n",
    "\n",
    "## Prerequisites \n",
    "\n",
    "- \\>2 years of experience with Python, [Numpy](https://numpy.org) and [Matplotlib](https://matplotlib.org)\n",
    "    - Python standard library, functools, namedtuple, classes and dunder methods\n",
    "    - Understanding of global and local scopes in Python\n",
    "    - array operations, random number sampling, 1d/2d plotting, histograms\n",
    "- Undergraduate level knowledge of ML, probability, statistics and linear algebra\n",
    "    - Probability density functions, definitions of variance and mean\n",
    "    - Multivariate Gaussian distributions\n",
    "    - Joint and marginal distributions\n",
    "    - Maximum Likelihood Estimation\n",
    "    - (Stochastic) Gradient descent\n",
    "    - Multilayer Perceptron\n",
    "- No prior knowledge of Diffusion Models nor JAX is required!\n",
    "\n",
    "\n",
    "## What are Diffusion Models?\n",
    "Diffusion models are a class of generative models that are based on the concept of iteratively removing noise from an image\n",
    "or other data. \"Generative\" means they model a probability distribution and can be used to draw new samples from the distribution and thus generate new plausible images. Or an alternative way of thinking about diffusion models is to think of them as sampling algorithms, that sample from a fixed distribution. Where the distribution we sample from is defined by the distribution of the data we use for training them. \n",
    "\n",
    "![](images/sde_schematic.jpg)\n",
    "\n",
    "Image taken from: https://yang-song.net/blog/2021/score/\n",
    "\n",
    "However sampling from high dimensional distributions, such as the distribution of natural images, where each pixel is treated as an independent dimension, can be technically quite challenging. Diffusion models are a way to make this sampling process feasible and scalable. Diffusion model are mathematically well founded and draw many parallels to actual physical diffusion processes, \n",
    "denoising methods in image processing as well as theory of (stochastic) differential equations.\n",
    "\n",
    "In this tutorial We will take a look at a specific type of diffusion models called Denoising Diffusion Probabilistic Models (DDPMs) introduced by [Ho et al. in 2020.](https://arxiv.org/abs/2006.11239). We will use simple \"toy examples\" on 1d and 2d data to illustrate and understand the method. The goal is to build intuition and provide a solid foundation for working with production scale models. \n",
    "\n",
    "**Note**: I personally find that \"diffusion models\" are to a certain degree a misnomer, as the relevant part of the model is the reverse process, where the diffuson process is inverted. But we will learn about that later.\n",
    "\n",
    "## What is JAX?\n",
    "In a single sentence you can think of JAX as Numpy with support for GPUs and automatic differentiation.\n",
    "It also includes a just in time compilation (JIT) and function transforms, such as vectorization (like np.vectorize)\n",
    "which is automatically lowered to hardware accelerated XLA (XLA is an open source compiler for linear algebra / machine learnin)\n",
    "instructions. \n",
    "\n",
    "The JAX docs are available at: https://docs.jax.dev/en/latest/\n",
    "\n",
    "There is diverse ecosystem of open source tools build around JAX covering:\n",
    "\n",
    "- Neural Networks: [Flax](https://flax.readthedocs.io/), [Equinox](https://docs.kidger.site/equinox/), [Keras](https://keras.io/)\n",
    "- Optimizers: [Optax](https://optax.readthedocs.io/), [Optimistix](https://github.com/patrick-kidger/optimistix)\n",
    "- Probabilistics Programming [Blackjax](https://blackjax-devs.github.io/blackjax/), [Numpyro](https://num.pyro.ai/en/latest/index.html)\n",
    "- ...\n",
    "\n",
    "There is also a curated list of resources around JAX here: https://github.com/n2cholas/awesome-jax\n",
    "\n",
    "\n",
    "## Quick Survey\n",
    "\n",
    "- Who has worked with JAX before?\n",
    "- Who has worked with PyTorch and deep learning?\n",
    "- Who has worked with diffusion models before?\n",
    "- If you are comfortable sharing: \n",
    "  - 2 years of Python experience or less?\n",
    "  - Between 2 - 5 years?\n",
    "  - More than 5 years?\n",
    "\n",
    "\n",
    "## More Ressources \n",
    "\n",
    "An excellent intuitive introduction to the math behind diffusion models can be found in the following video series by\n",
    "[Deepia](https://www.youtube.com/@Deepia-ls2fo) on Youtube:\n",
    "\n",
    "- Denoising Autoencoders: https://youtu.be/0V96wE7lY4w?si=h82tsQOYRc7-Vwly\n",
    "- Langevin Algorithm: https://youtu.be/m0OTso2Dc2U?si=_Yld6zr2jkQEGuuI\n",
    "- Diffusion Models: https://youtu.be/EhndHhIvWWw?si=e_s1A9dyOF7NLCsg\n",
    "\n",
    "If you would like to prepare for this tutorial I would recommend to watch those videos in advance. They are each 15-30 minutes long and watching them in the given order is recommended.\n",
    "\n",
    "If you are interested in more details and different perspectives about diffusion models \n",
    "I recommend to checkout the following blog posts:\n",
    "\n",
    "- Key read: https://yang-song.net/blog/2021/score/\n",
    "- https://lilianweng.github.io/posts/2021-07-11-diffusion-models/#nice\n",
    "\n",
    "\n",
    "Other minimal implementations in PyTorch:\n",
    "\n",
    "- https://github.com/joseph-nagel/diffusion-demo/blob/main/notebooks/swissroll.ipynb\n",
    "- https://github.com/acids-ircam/diffusion_models/ \n",
    "\n",
    "\n",
    "## Glossary\n",
    "- **Score Function**: the score function of a distribution is the gradient of the log-density function with respect to the input\n",
    "- **Reverse Process**: the reverse process is the process of removing noise from an image / data\n",
    "- **Forward Process**: the forward process is the process of adding noise to an image / data\n",
    "- **Sample / Particle**: a sample from a n-dimensional distribution is a n-dimensional vector / point described by its coordinates, a specific realisation (or measurment) of a random variable\n",
    "- **Distribution / Probability Density Function / Likelihood**: a functional or numerical form describing the probability density of a random variable. \n"
   ]
  },
  {
   "cell_type": "code",
   "execution_count": 1,
   "metadata": {},
   "outputs": [],
   "source": [
    "# uncomment on google collab to install dependencies\n",
    "#import sys\n",
    "#!{sys.executable} -m pip install -r https://raw.githubusercontent.com/adonath/jax-diffusion-models-pydata-boston-2025/main/requirements.txt\n",
    "#!mkdir images "
   ]
  },
  {
   "cell_type": "markdown",
   "metadata": {},
   "source": [
    "## Warm Up: the Diffusion Process\n",
    "\n",
    "Diffusion is typically a physical process where particles spread from regions of high concentration to regions of low concentration over time, driven by random motion. In nature, this can be seen in phenomena like the dispersal of ink in water or the flow of heat through a solid. Mathematically, diffusion is often modeled using stochastic processes or differential equations, capturing how randomness leads to gradual smoothing and homogenization of an initial state. In a more general understanding diffusion can also include convection, meaning a systematic drift of the particles driven by an external force, such as wind, a gravity driven flow in water, or stiring in a mixing process. \n",
    "\n",
    "We will first explore the process of diffusion on a simple example in JAX. Let's start with the relevant imports:"
   ]
  },
  {
   "cell_type": "code",
   "execution_count": 2,
   "metadata": {},
   "outputs": [],
   "source": [
    "from functools import partial\n",
    "from collections import namedtuple\n",
    "\n",
    "import numpy as np\n",
    "import matplotlib.pyplot as plt\n",
    "from matplotlib import animation\n",
    "\n",
    "import jax\n",
    "from jax import numpy as jnp\n",
    "from jax import random"
   ]
  },
  {
   "cell_type": "markdown",
   "metadata": {},
   "source": [
    "The `jax.numpy` namespace can be thought of as a \"drop-in\" replacement for Numpy. It was designed to be as similar as possible to the standard `numpy` namespace. In almost all cases you will find the equivalent of some `np.<>` function in `jnp.<>`. Howevere there is one important difference: **array objects in JAX are not mutable**, meaning they cannot be modified in place. Something like `array[2:3] = 3`, **does not work** in JAX, for reasons that become clear later, when we dicuss just in time compilation (JIT). There is a handful  more of these differences which are documented in [\"JAX - The Sharp Bits\"](https://docs.jax.dev/en/latest/notebooks/Common_Gotchas_in_JAX.html).\n",
    "\n",
    "For this illustrative example we will work with a simple mixture of Gaussians as the inital distribution of the \"particles\" (I will use \"particles\" and \"samples\" synonymously). In JAX we can just use functionality in the `jnp.<>` namespace to define our model:"
   ]
  },
  {
   "cell_type": "code",
   "execution_count": 3,
   "metadata": {},
   "outputs": [],
   "source": [
    "def gaussian(x, norm, mu, sigma):\n",
    "    \"\"\"Single Gaussian distribution\"\"\"\n",
    "    return norm * jnp.exp(-0.5 * ((x - mu) / sigma) ** 2) / (sigma * jnp.sqrt(2 * np.pi))\n",
    "\n",
    "\n",
    "def gmm(x, norm, mu, sigma):\n",
    "    \"\"\"Gaussian Mixture Model\"\"\"\n",
    "    values = jnp.sum(gaussian(x, norm, mu, sigma), axis=0) / mu.shape[0]\n",
    "\n",
    "    # later we compute the gradient, which requires a returning a scalar value\n",
    "    if values.shape == (1,):\n",
    "        return values[0]\n",
    "    \n",
    "    return values\n",
    "\n",
    "norm, mu, sigma = jnp.array([1, 1])[:, None], jnp.array([-1, 1])[:, None], jnp.array([0.25, 0.25])[:, None]\n",
    "\n",
    "x_plot = jnp.linspace(-2, 2, 1000)\n",
    "y = gmm(x_plot, norm, mu, sigma)"
   ]
  },
  {
   "cell_type": "markdown",
   "metadata": {},
   "source": [
    "This is what the model looks like:"
   ]
  },
  {
   "cell_type": "code",
   "execution_count": null,
   "metadata": {},
   "outputs": [],
   "source": [
    "ax = plt.subplot()\n",
    "ax.plot(x_plot, y)\n",
    "ax.set_xlabel('x')\n",
    "ax.set_ylabel('p(x)')"
   ]
  },
  {
   "cell_type": "markdown",
   "metadata": {},
   "source": [
    "Now we proceed to drawing samples from the distribution. As it is a Gaussian distribution we can directly sample\n",
    "from it using the build-in sampling methods from JAX. They are found in the `jax.random` namespace. This is\n",
    "again very much like `numpy`, however there is an important difference: instead of a global `RandomState` object\n",
    "JAX uses an approach, based on \"keys\", which can be split locally and are passed to the random sampling method:"
   ]
  },
  {
   "cell_type": "code",
   "execution_count": 5,
   "metadata": {},
   "outputs": [],
   "source": [
    "n_samples_ = 500_000\n",
    "\n",
    "key = random.key(9834)\n",
    "\n",
    "# TBD: this assumes equal norm, draw from bernoulli instead...\n",
    "x_init = sigma * random.normal(key, (2, n_samples_ // 2,)) + mu"
   ]
  },
  {
   "cell_type": "markdown",
   "metadata": {},
   "source": [
    "Let's make a histogram of the samples to verify the shape of the distribution:"
   ]
  },
  {
   "cell_type": "code",
   "execution_count": null,
   "metadata": {},
   "outputs": [],
   "source": [
    "ax = plt.subplot()\n",
    "ax.hist(x_init.flatten(), bins=100, density=True, histtype='step', label=\"Initial samples\");\n",
    "ax.set_xlabel('$x_i$')\n",
    "ax.set_ylabel('$p(x_i)$')"
   ]
  },
  {
   "cell_type": "markdown",
   "metadata": {},
   "source": [
    "Now we introduce the actual diffusion process. The diffusion process we choose here consists of two distinct steps or terms:\n",
    "\n",
    "- **Diffusion**: add noise to the sample, by adding a displacement drawn from a Gaussian mean 0 and variance $\\beta_t$, this corresponds to a random motion of the particle (think e.g. [Brownian motion](https://en.wikipedia.org/wiki/Brownian_motion))\n",
    "- **Drift**: move current position of sample towards the origin, by multiplying with a constant factor $\\sqrt{1 - \\beta_t}$, this is equivalent to an external force acting on the particle.\n",
    "\n",
    "\n",
    "In addition we assume $\\beta_t \\in [0, 1] $ and $\\beta_t \\to 1$ with time. With this specific choice of can achieve that the process finally converges towards a normal Gaussian distribution $\\mathcal{N}(0, 1)$. The choice of the factors given above seems a bit \"magic\" here, but the reasoning is given in more detail in the DDPM paper I linked above (**hint:** in addition to leading to convergence to a unit Gaussian it also allows for computing the n-th time step in closed form, which will see later in the tutorial).\n",
    "\n",
    "For now we can just numerically convince ourselves that this process indeed transforms our two component GMM into a normal Gaussian Distribution:"
   ]
  },
  {
   "cell_type": "code",
   "execution_count": 7,
   "metadata": {},
   "outputs": [],
   "source": [
    "n_iter = 100\n",
    "beta_t = jnp.linspace(0, 1, n_iter)\n",
    "x = x_init.flatten()\n",
    "\n",
    "sample_trace_diffusion_beta = []\n",
    "\n",
    "for idx, beta in enumerate(beta_t):\n",
    "    key, sub_key = random.split(key)\n",
    "    x = jnp.sqrt(1. - beta) * x + beta * random.normal(key=sub_key, shape=x.shape)\n",
    "    sample_trace_diffusion_beta.append(x)\n",
    "\n",
    "sample_trace_diffusion_beta = jnp.stack(sample_trace_diffusion_beta, axis=0)"
   ]
  },
  {
   "cell_type": "markdown",
   "metadata": {},
   "source": [
    "To visualize the process over time, we can make a histogram of the samples at each point in time `t`. Of course we can use a Python loop for this and call e.g. `np.histogram` and append all results, however this is a good time to introduce a first function transform in JAX, named `jax.vmap`. `jax.vmap` allows to map an arbitrary function over the leading dimension of an array. It is comparable to `np.vectorize`, however the latter literally implements a Python loop, while `jax.vmap` lowers the operation to compiled code and is thus much more performant.\n",
    "\n",
    "So now we can use it to map `jnp.histogram` over the time dimension of our samples:"
   ]
  },
  {
   "cell_type": "code",
   "execution_count": 8,
   "metadata": {},
   "outputs": [],
   "source": [
    "default_hist = partial(jnp.histogram, bins=100, range=(-3, 3), density=True)\n",
    "\n",
    "batched_histogram = jax.vmap(default_hist)"
   ]
  },
  {
   "cell_type": "markdown",
   "metadata": {},
   "source": [
    "For covenience we combined this into a little helper function, we can use to see how the density changes with time and plot the trajectory of some example particles:"
   ]
  },
  {
   "cell_type": "code",
   "execution_count": null,
   "metadata": {},
   "outputs": [],
   "source": [
    "def plot_trace(trace, n_traces=5, ax=None, x_min=-3, x_max=3):\n",
    "    \"\"\"Plot distribution at multiple points in time as trace\"\"\"\n",
    "    hist_values, _ = batched_histogram(trace)    \n",
    "\n",
    "    n_iter, n_samples = trace.shape\n",
    "\n",
    "    ax = plt.subplot() or ax\n",
    "    ax.imshow(hist_values.T[:, :], extent=[0, n_iter, x_min, x_max], aspect=\"auto\", origin=\"lower\")\n",
    "\n",
    "    # plot some example traces\n",
    "    key = random.PRNGKey(9823)\n",
    "    for idx in random.randint(key, (n_traces,), 0, n_samples):\n",
    "        ax.plot(trace[:, idx])\n",
    "\n",
    "    ax.set_ylim(x_min, x_max)\n",
    "    ax.set_xlabel(\"# Iteration\")\n",
    "    ax.set_ylabel(\"x\")\n",
    "    return ax\n",
    "\n",
    "plot_trace(sample_trace_diffusion_beta)"
   ]
  },
  {
   "cell_type": "markdown",
   "metadata": {},
   "source": [
    "We can easily convince ourself, that the final (stationary) distribution is indeed a standard Gaussian:"
   ]
  },
  {
   "cell_type": "code",
   "execution_count": null,
   "metadata": {},
   "outputs": [],
   "source": [
    "ax = plt.subplot()\n",
    "ax.hist(sample_trace_diffusion_beta[-1], density=True, bins=50, label=\"Samples\")\n",
    "\n",
    "x_plot = jnp.linspace(-5, 5, 100)\n",
    "ax.plot(x_plot, gaussian(x_plot, norm=1, mu=0, sigma=1), label=\"Unit Gaussian\")\n",
    "ax.set_xlabel(\"x\")\n",
    "ax.set_ylabel(\"PDF\")\n",
    "ax.legend()"
   ]
  },
  {
   "cell_type": "markdown",
   "metadata": {},
   "source": [
    "## \"Reversing\" Diffusion via Langevin Dynamics\n",
    "\n",
    "Now that we have \"destroyed\" our intial distribution (the two component Gaussian) with the forward diffusion process, wouldn't it be great if we could reverse the process? This would give us a sampling algorithm, that allowed us to sample from an arbitrary distribution. Starting from a normal Gaussian distribution we would transform the samples back into the shape of the intial distribution.\n",
    "\n",
    "It turns out such an algorithm exists, it is named [\"Langevin Dynamics\"](https://en.wikipedia.org/wiki/Stochastic_gradient_Langevin_dynamics). However the algorithm requires one additional piece of information: the score function of the target distribution. The score function is defined as the gradient of the log of the distribution.\n",
    "\n",
    "In JAX we can directly get the score function by taking the gradient of the log using `jax.grad()`:"
   ]
  },
  {
   "cell_type": "code",
   "execution_count": 11,
   "metadata": {},
   "outputs": [],
   "source": [
    "def log_gmm(x, norm, mu, sigma):\n",
    "    \"\"\"Log of the GMM\"\"\"\n",
    "    return jnp.log(gmm(x, norm, mu, sigma))\n",
    "\n",
    "gmm_log_part = partial(log_gmm, norm=norm, mu=mu, sigma=sigma) # the partial just simplifies not parsing the parameters later...\n",
    "score_fun = jax.vmap(jax.grad(gmm_log_part))"
   ]
  },
  {
   "cell_type": "markdown",
   "metadata": {},
   "source": [
    "Now we can see what it looks like:"
   ]
  },
  {
   "cell_type": "code",
   "execution_count": null,
   "metadata": {},
   "outputs": [],
   "source": [
    "ax = plt.subplot()\n",
    "x_plot = jnp.linspace(-2, 2, 1000)\n",
    "ax.plot(x_plot, score_fun(x_plot))\n",
    "ax.set_xlabel('x')\n",
    "ax.set_ylabel('d/dx log p(x)')"
   ]
  },
  {
   "cell_type": "markdown",
   "metadata": {},
   "source": [
    "Now let us implement a reverse diffusion process based on \"Langevin Dynamics\". Starting from an initial sample $x_i$, the algorithm looks like this:\n",
    "\n",
    "$\\begin{align} \\mathbf{x}_{i+1} \\gets \\mathbf{x}_i + 0.5 \\alpha \\nabla_\\mathbf{x} \\log p(\\mathbf{x}) + \\sqrt{\\alpha}~ \\mathbf{z}_i, \\quad i=0,1,\\cdots, K, \\end{align}$\n",
    "\n",
    "Where $\\mathbf{z}_i \\sim \\mathcal{N}(0, I)$. When $\\alpha \\to 0$ and $K \\to \\infty$, this converges to the target distribution, defined by its score function $\\nabla_\\mathbf{x} \\log p(\\mathbf{x})$.\n",
    "\n",
    "The intuition behind the algorithm is the following: give a starting point for a sample $x_0$ it is moved along the gradient (gradient descent!) to move towards the region of highest probability. However whith just this component all samples would end up in the same final location, the maximum of the distribution. To prevent this, the scale of the gradient is decreased with time ($\\alpha$) and an addititional random update is added, which moves the sample in a random direction. The method was first introduced by [Welling et al. 2011](https://www.stats.ox.ac.uk/~teh/research/compstats/WelTeh2011a.pdf), where they also present proof of convergence. \n",
    "\n",
    "\n",
    "While we could implement the algorithm the same way we did above using a Python loop, we make use of another JAX fundemantal, named [`jax.lax.scan`](https://docs.jax.dev/en/latest/_autosummary/jax.lax.scan.html). `lax.scan` allows you scan a function over the leading array axes while carrying along a state. It requires us to define the \"body\" of the loop in a dedicated function:\n"
   ]
  },
  {
   "cell_type": "code",
   "execution_count": 13,
   "metadata": {},
   "outputs": [],
   "source": [
    "# JAX can natively handle \"structs of arrays\" or \"PyTrees\"\n",
    "SampleArgs = namedtuple(\"Args\", [\"key\", \"idx\", \"x\", \"alpha_0\", \"p_0\"])\n",
    "\n",
    "def sample(score, args, _):\n",
    "    # compute the \"learning rate\" depending on the iteration\n",
    "    alpha = args.alpha_0 * (args.p_0 ** args.idx) ** 2\n",
    "\n",
    "    # sample stochastic update\n",
    "    key, subkey = random.split(args.key)\n",
    "    dx = random.normal(subkey, args.x.shape)\n",
    "\n",
    "    # combine the gradient and the stochastic update\n",
    "    x = args.x + 0.5 * alpha * score(args.x) + jnp.sqrt(alpha) * dx\n",
    "    return SampleArgs(key, args.idx + 1, x, args.alpha_0, args.p_0), x"
   ]
  },
  {
   "cell_type": "markdown",
   "metadata": {},
   "source": [
    "**Note on pure functions**: Functions passed to `jax.lax.scan` are automatically JIT compiled, which allows for efficient execution. However this requires functions to be \"pure\" or alternatively they cannot have \"side effects\". Side effects include e.g. modifying an object / data that was passed to the function as argument in place,  printing something or interacting with global state in the function. This limitation becomes clear, when you remind yourself that for JIT compilation the Python code only serves as a laguage to define the computational graph and is never really executed. Instead a JIT compiled version of the code is executed, which is compiled to lower level hardware accelerated code. How should a remote GPU \"know\" how to modify a specific Python object in thh main process place? This would require supporting complex communication between process and platforms. The requirement of pure functions makes the implementation of the JIT much simpler and more stable.\n",
    "\n",
    "Now we can use that function by defining the initial state first and calling `jax.lax.scan`:"
   ]
  },
  {
   "cell_type": "code",
   "execution_count": 14,
   "metadata": {},
   "outputs": [],
   "source": [
    "n_samples = 100_000\n",
    "n_iter = 500\n",
    "\n",
    "key = random.PRNGKey(42)\n",
    "key, subkey = random.split(key)\n",
    "\n",
    "init = SampleArgs(\n",
    "    key=key,\n",
    "    idx=0,\n",
    "    x=random.normal(subkey, (n_samples,)),\n",
    "    alpha_0=0.002,\n",
    "    p_0=1.0\n",
    ")\n",
    "\n",
    "result, sample_trace = jax.lax.scan(partial(sample, score_fun), init, length=n_iter)"
   ]
  },
  {
   "cell_type": "code",
   "execution_count": null,
   "metadata": {},
   "outputs": [],
   "source": [
    "plot_trace(sample_trace)"
   ]
  },
  {
   "cell_type": "code",
   "execution_count": null,
   "metadata": {},
   "outputs": [],
   "source": [
    "ax = plt.subplot()\n",
    "ax.hist(sample_trace[-1], density=True, bins=70, label=\"Samples\")\n",
    "\n",
    "x_plot = jnp.linspace(-2, 2, 100)\n",
    "y = gmm(x_plot, norm, mu, sigma)\n",
    "ax.plot(x_plot, y, label=\"Target distribution\")\n",
    "ax.set_xlim()\n",
    "ax.set_xlabel(\"x\")\n",
    "ax.set_ylabel(\"PDF\")\n",
    "ax.legend()"
   ]
  },
  {
   "cell_type": "markdown",
   "metadata": {},
   "source": [
    "So we have transformed the samples from a unit Gaussian into the target distribution using Langevin dynamics!"
   ]
  },
  {
   "cell_type": "markdown",
   "metadata": {},
   "source": [
    "## Score Matching\n",
    "In this next section we will go from the simple Langevin dynamics example to Denoising Diffusion Probabilistic Models (DDPM) [Ho et al](https://arxiv.org/abs/2006.11239).\n",
    "The Langevin dynamics example required the knowledge of the score function, which we derived from the bimodal Gaussian \n",
    "PDF using `jax.grad`.\n",
    "\n",
    "However in general we do not have access to the score function, we just have access to the data distribution. Still we can estimate the score function from the data in a process called \"score matching\", introduced by [Hyvarinen, 2005](https://jmlr.org/papers/volume6/hyvarinen05a/hyvarinen05a.pdf). It is intuitive that to \"match the score\" we could minimize the expectation value of the squared difference between a model function $\\mathcal{F}_{\\theta}(\\mathbf{x})$ and the score function computed from the data distribution (leaving open how to do this for now):\n",
    "\n",
    "$$\\mathcal{L}_{mse} = E_{\\mathbf{x} \\sim p(\\mathbf{x})} \\left[ \\left\\lVert \\mathcal{F}_{\\theta}(\\mathbf{x}) - \\nabla_{\\mathbf{x}} \\log p(\\mathbf{x}) \\right\\lVert_2^2 \\right]$$\n",
    "\n",
    "The core of the method of \"score matching\" involves the intesting result, that the MSE loss between the score function and the gradient of the log PDF can be reformulated as:\n",
    "\n",
    "$$\\mathcal{L}_{matching} = E_{\\mathbf{x} \\sim p(\\mathbf{x})} \\left[ \\text{ tr}\\left( \\nabla_{\\mathbf{x}}  \\mathcal{F}_{\\theta}(\\mathbf{x})  \\right) + \\frac{1}{2} \\left\\Vert \\mathcal{F}_{\\theta}(\\mathbf{x}) \\right\\lVert_2^2 \\right]$$\n",
    "\n",
    "If you are interested in the mathematical derivation of this new loss, you can checkout e.g. http://yang-song.net/blog/2019/ssm/."
   ]
  },
  {
   "cell_type": "code",
   "execution_count": 17,
   "metadata": {},
   "outputs": [],
   "source": [
    "from sklearn.datasets import make_swiss_roll\n",
    "import equinox as eqx\n",
    "import optax"
   ]
  },
  {
   "cell_type": "markdown",
   "metadata": {},
   "source": [
    "\n",
    "For this next section we will work with another toy dataset,  the \"swiss roll\":"
   ]
  },
  {
   "cell_type": "code",
   "execution_count": 18,
   "metadata": {},
   "outputs": [],
   "source": [
    "random_state = np.random.RandomState(8923)\n",
    "\n",
    "n_samples = 1_000\n",
    "x = make_swiss_roll(n_samples=n_samples, noise=0.1, random_state=random_state)[0]\n",
    "x = 0.13 * x[:, [0, 2]] # drop z axis"
   ]
  },
  {
   "cell_type": "markdown",
   "metadata": {},
   "source": [
    "This is what the dataset look like:"
   ]
  },
  {
   "cell_type": "code",
   "execution_count": null,
   "metadata": {},
   "outputs": [],
   "source": [
    "ax = plt.subplot()\n",
    "\n",
    "ax.scatter(x[:, 0], x[:, 1], s=1)\n",
    "ax.set_aspect('equal')\n",
    "\n",
    "scale = 2.0\n",
    "ax.set_xlim(-scale, scale)\n",
    "ax.set_ylim(-scale, scale)\n",
    "ax.set_xlabel(\"x\")\n",
    "ax.set_ylabel(\"y\")"
   ]
  },
  {
   "cell_type": "markdown",
   "metadata": {},
   "source": [
    "To model the score function we choose a simple multi-layer perceptron. In JAX there are multiple choices of deep learning libraries.\n",
    "I personally found [Equinox](https://docs.kidger.site/equinox/) easiest to work with. However if you come from PyTorch than [flax / nnx](https://flax.readthedocs.io/en/latest/) might be even closer. \n",
    "\n",
    "The model definition in `equinox` looks like:"
   ]
  },
  {
   "cell_type": "code",
   "execution_count": 20,
   "metadata": {},
   "outputs": [],
   "source": [
    "class MLP(eqx.Module):\n",
    "    \"\"\"Simple MLP\"\"\"\n",
    "    fc1: eqx.nn.Linear\n",
    "    fc2: eqx.nn.Linear\n",
    "    fc3: eqx.nn.Linear\n",
    "\n",
    "    def __init__(self, in_dim, out_dim, key, hidden_dim=128):\n",
    "        keys = jax.random.split(key, 3)\n",
    "        self.fc1 = eqx.nn.Linear(in_dim, hidden_dim, key=keys[0])\n",
    "        self.fc2 = eqx.nn.Linear(hidden_dim, hidden_dim, key=keys[1])\n",
    "        self.fc3 = eqx.nn.Linear(hidden_dim, out_dim, key=keys[2])\n",
    "\n",
    "    def __call__(self, x):\n",
    "        x = jax.nn.gelu(self.fc1(x))\n",
    "        x = jax.nn.gelu(self.fc2(x))\n",
    "        x = self.fc3(x)\n",
    "        return x"
   ]
  },
  {
   "cell_type": "markdown",
   "metadata": {},
   "source": [
    "I you have worked with PyTorch before, this should still look familiar to you. Models are defined by inhereting from a `Module` object and implementing the forward pass, here defined in the `__call__` method. New are the class level declarations of class members, which are \"borrowed\" from dataclasses and the splitting of the random state, we have seen before.\n",
    "\n",
    "One particular design choice in Equinox is that you never have to handle the \"batch axis\", but you can always use `jax.vmap` over an entire model definition. This is possible because `eqx.Module` objects \"structs of arrays\" supported by JAX. However one thing to keep in mind (a \"sharp bit\") is that these structures can only be trees and not graphs! This makes for example sharing parameters a bit more complex.\n",
    "\n",
    "Next we implement the loss function I we have defined above and to make the function more efficient, we will use JAX's built-in \"just in time\" compilation. The way this works is by decorating the function definition with the `jax.jit` object. "
   ]
  },
  {
   "cell_type": "code",
   "execution_count": 21,
   "metadata": {},
   "outputs": [],
   "source": [
    "@jax.jit\n",
    "def score_matching_loss(model, samples):\n",
    "    \"\"\"Score matching loss\"\"\"\n",
    "    logp = jax.vmap(model)(samples)\n",
    "    # Compute the norm loss\n",
    "    norm_loss = jnp.linalg.norm(logp, axis=-1) ** 2 / 2.0\n",
    "    \n",
    "    # Compute the Jacobian loss\n",
    "    jacob_mat = jax.vmap(jax.jacobian(model))(samples)\n",
    "    tr_jacobian_loss = jnp.trace(jacob_mat, axis1=-2, axis2=-1)\n",
    "    \n",
    "    return (tr_jacobian_loss + norm_loss).mean()"
   ]
  },
  {
   "cell_type": "markdown",
   "metadata": {},
   "source": [
    "Next we train the model on the dataset, using the Adam optimzer and the `optax` library. Equinox provide some extra methods such as `eqx.filter_jit`, which can be thought of an convenience wrapper around the `jax.jit` decorator, which automacilly filters which attributes of the model are arrays and relevant for JIT and gradient computation. I will not go into forther explanation, but refer to the [Equinox docs](https://docs.kidger.site/equinox/) instead."
   ]
  },
  {
   "cell_type": "code",
   "execution_count": null,
   "metadata": {},
   "outputs": [],
   "source": [
    "model = MLP(2, 2, key=jax.random.key(1234), hidden_dim=128)\n",
    "\n",
    "optimizer = optax.adam(learning_rate=1e-3)\n",
    "opt_state = optimizer.init(model)\n",
    "\n",
    "n_iter = 1000\n",
    "\n",
    "@eqx.filter_jit\n",
    "def make_step(model, opt_state, x):\n",
    "    \"\"\"Make a single step in the optimization routine\"\"\"\n",
    "    loss_value, grads = eqx.filter_value_and_grad(score_matching_loss)(model, x)\n",
    "    updates, opt_state = optimizer.update(\n",
    "        grads, opt_state, eqx.filter(model, eqx.is_array)\n",
    "    )\n",
    "    model = eqx.apply_updates(model, updates)\n",
    "    return model, opt_state, loss_value\n",
    "\n",
    "\n",
    "for idx in range(n_iter):\n",
    "    model, opt_state, train_loss = make_step(model, opt_state, x)\n",
    "    print(f\"Iter {idx}, loss: {train_loss:.4f}\", end=\"\\r\")"
   ]
  },
  {
   "cell_type": "markdown",
   "metadata": {},
   "source": [
    "Remember that the score function parametrizes the gradient of the log, so it is a vector valued function. \n",
    "So we can use a little helper function to visualize the score fucntion we have just fitted as a vector field:"
   ]
  },
  {
   "cell_type": "code",
   "execution_count": null,
   "metadata": {},
   "outputs": [],
   "source": [
    "def plot_vector_field(model, ax=None, x_range=(-2, 2, 10), y_range=(-2, 2, 10), **kwargs):\n",
    "    \"\"\"Plot vector field of grad(log(p)), aka score function\"\"\"\n",
    "    if ax is None:\n",
    "        ax = plt.gca()\n",
    "    \n",
    "    xx, yy = jnp.meshgrid(\n",
    "        jnp.linspace(*x_range),\n",
    "        jnp.linspace(*y_range)\n",
    "    )\n",
    "    grid = jnp.stack([xx.ravel(), yy.ravel()], axis=-1)\n",
    "\n",
    "    scores = jax.vmap(model)(grid)\n",
    "\n",
    "    scores_norm = jnp.linalg.norm(scores, axis=-1, ord=2, keepdims=True)\n",
    "    scores_log1p = scores / scores_norm * jnp.log(1 + scores_norm)\n",
    "    ax.quiver(xx, yy, scores_log1p[:, 0], scores_log1p[:, 1], **kwargs)\n",
    "    return ax\n",
    "\n",
    "ax = plt.subplot()\n",
    "\n",
    "ax.scatter(x[:, 0], x[:, 1], s=10, alpha=0.1)\n",
    "\n",
    "ax.set_aspect('equal')\n",
    "scale = 2.0\n",
    "ax.set_xlim(-scale, scale)\n",
    "ax.set_ylim(-scale, scale)\n",
    "ax.set_xlabel(\"x\")\n",
    "ax.set_ylabel(\"y\")\n",
    "plot_vector_field(model, ax=ax, x_range=(-2, 2, 20), y_range=(-2, 2, 20), color=\"red\");"
   ]
  },
  {
   "cell_type": "markdown",
   "metadata": {},
   "source": [
    "If you look closely you can see that the gradient always points towards the direction of the highest probability density at any point in the data space. Which is exactly what we expect from intuition.\n",
    "\n",
    "Now that we have the score function of the distribution we can actually go back to our Langevin sampling method and replace the analytical score function with our fitted model:"
   ]
  },
  {
   "cell_type": "code",
   "execution_count": 24,
   "metadata": {},
   "outputs": [],
   "source": [
    "Args = namedtuple(\"Args\", [\"key\", \"idx\", \"x\", \"alpha_0\", \"p_0\"])\n",
    "\n",
    "def sample(score, args, _):\n",
    "    key, subkey = random.split(args.key)\n",
    "    alpha = args.alpha_0 * (args.p_0 ** args.idx) ** 2\n",
    "    dx = random.normal(subkey, args.x.shape)\n",
    "    x = args.x + 0.5 * alpha * jax.vmap(score)(args.x) + jnp.sqrt(alpha) * dx\n",
    "    return Args(key, args.idx + 1, x, args.alpha_0, args.p_0), x\n",
    "\n",
    "\n",
    "n_samples = 10_000\n",
    "n_iter = 2000\n",
    "\n",
    "key = random.PRNGKey(42)\n",
    "key, subkey = random.split(key)\n",
    "\n",
    "init = Args(\n",
    "    key=key,\n",
    "    idx=0,\n",
    "    x=random.normal(subkey, (n_samples, 2)),\n",
    "    alpha_0=0.0001,\n",
    "    p_0=1,\n",
    ")\n",
    "\n",
    "result, sample_trace = jax.lax.scan(partial(sample, model), init, length=n_iter)"
   ]
  },
  {
   "cell_type": "markdown",
   "metadata": {},
   "source": [
    "This is what the samples look like:"
   ]
  },
  {
   "cell_type": "code",
   "execution_count": null,
   "metadata": {},
   "outputs": [],
   "source": [
    "ax = plt.subplot()\n",
    "\n",
    "ax.scatter(sample_trace[-1, :, 0], sample_trace[-1, :, 1], s=1)\n",
    "ax.set_aspect('equal')\n",
    "scale = 2.0\n",
    "ax.set_xlim(-scale, scale)\n",
    "ax.set_ylim(-scale, scale)\n",
    "ax.set_xlabel(\"x\")\n",
    "ax.set_ylabel(\"y\")"
   ]
  },
  {
   "cell_type": "markdown",
   "metadata": {},
   "source": [
    "# (Break)\n",
    "\n",
    "## Denoising Diffusion Probabilistic Models (DDPM)\n",
    "\n",
    "The previous result just on score matching was not bad, but also not great either. The sampling process got \"stuck\" in regions of lower probability and missed details of the distribution. How can we improve upon this?\n",
    "\n",
    "The answer that will finally bring us to the DDPM \"diffusion model\" has multiple aspects. The most important ideas is, we can make the model of the score function dependent (conditioned) on time. But how does the training of such a model look like? We can create \"diffused\" versions of our training data as we did above, which \n",
    "change with time and move (or \"morph\") from a simple Gaussian to the much more complex target distribution. \n",
    "\n",
    "Practically we can make another small improvement to the diffusion process: in order to get the \"diffused\" example data a given $t$, we had to compute all the previous steps (check the simple example above). Now, with a bit of math, because all the transitions between the different stages are Gaussian, one can derive a closed form expression to how much the data is diffused at given time $t$ (check the DDPM paper).\n",
    "\n",
    "The solution is given by:\n",
    "\n",
    "$q(x_t|x_0) = \\sqrt{\\bar{\\alpha_t}}x_0 + (1 - \\bar{\\alpha_t}) \\cdot \\epsilon$\n",
    "\n",
    "And\n",
    "\n",
    "$\\bar{\\alpha} = (1 - \\beta)^t, \\textrm{with~} \\alpha = 1 - \\beta$\n",
    "\n",
    "\n",
    "Now let's first define the range of $\\beta$ values and compute $\\alpha$ and $\\bar{\\alpha}$ from it:"
   ]
  },
  {
   "cell_type": "code",
   "execution_count": 26,
   "metadata": {},
   "outputs": [],
   "source": [
    "n_t_steps = 25 # number of time steps\n",
    "betas = jnp.geomspace(1e-4, 0.9999, n_t_steps)\n",
    "alphas = 1 - betas.reshape(1, -1, 1)\n",
    "alpha_bars = jnp.cumprod(alphas, axis=1)"
   ]
  },
  {
   "cell_type": "markdown",
   "metadata": {},
   "source": [
    "This we can use to diffuse the data:"
   ]
  },
  {
   "cell_type": "code",
   "execution_count": 27,
   "metadata": {},
   "outputs": [],
   "source": [
    "noise = jax.random.normal(jax.random.PRNGKey(1234), shape=(x.shape[0], n_t_steps, 2))\n",
    "x_diffused_example = jnp.sqrt(alpha_bars) * x[:, jnp.newaxis, :] + jnp.sqrt(1 - alpha_bars) * noise"
   ]
  },
  {
   "cell_type": "markdown",
   "metadata": {},
   "source": [
    "Now we can visualize the diffusion process with time:"
   ]
  },
  {
   "cell_type": "code",
   "execution_count": null,
   "metadata": {},
   "outputs": [],
   "source": [
    "fig, axes = plt.subplots(nrows=5, ncols=5, figsize=(8, 8))\n",
    "\n",
    "for idx, ax in enumerate(axes.flat):\n",
    "    ax.scatter(x_diffused_example[:, idx, 0], x_diffused_example[:, idx, 1], s=1)\n",
    "    ax.set_title(f\"Step {idx}\", fontdict={\"size\": 10}, pad=3)\n",
    "    ax.set_xticks([])\n",
    "    ax.set_yticks([])"
   ]
  },
  {
   "cell_type": "markdown",
   "metadata": {},
   "source": [
    "We can quickly verify that just as in the otehr example above the marginal distributions correspond to a unit Gaussian:"
   ]
  },
  {
   "cell_type": "code",
   "execution_count": null,
   "metadata": {},
   "outputs": [],
   "source": [
    "ax = plt.subplot()\n",
    "\n",
    "ax.hist(x_diffused_example[:, -1, 0], density=True, bins=50, label=\"X Marginal\", histtype=\"step\")\n",
    "ax.hist(x_diffused_example[:, -1, 1], density=True, bins=50, label=\"Y Marginal\", histtype=\"step\")\n",
    "\n",
    "\n",
    "x_plot = jnp.linspace(-5, 5, 100)\n",
    "ax.plot(x_plot, jax.scipy.stats.norm.pdf(x_plot), label=\"Unit Gaussian\")\n",
    "ax.set_xlabel(\"x\")\n",
    "ax.set_ylabel(\"PDF\")\n",
    "ax.legend()"
   ]
  },
  {
   "cell_type": "markdown",
   "metadata": {},
   "source": [
    "Now we modify our model to be dependent on the time coordinate. A common way to do this is via a so called \"positional embedding\".\n",
    "For this we consider the time variable to be an integer value, and the embedding consists of a matrix of the size $N_t \\times N_{out}$,\n",
    "where $N_t$ is the number of time steps to consider and $N_{out}$ is the number of dimensions in the intermediate layer of the MLP. \n",
    "\n",
    "The given a time idx `t` we can just lookup the vector in the embedding and directly mutliply it to the intermediate activations: "
   ]
  },
  {
   "cell_type": "code",
   "execution_count": 30,
   "metadata": {},
   "outputs": [],
   "source": [
    "class TimeConditionedLinear(eqx.Module):\n",
    "    \"\"\"Simple MLP\"\"\"\n",
    "    linear: eqx.nn.Linear\n",
    "    embedding: eqx.nn.Embedding\n",
    "\n",
    "    def __init__(self, in_dim, out_dim, t_dim, key):\n",
    "        keys = jax.random.split(key, 2)\n",
    "        self.embedding = eqx.nn.Embedding(t_dim, out_dim, key=keys[0])\n",
    "        self.linear = eqx.nn.Linear(in_dim, out_dim, key=keys[1])\n",
    "\n",
    "    def __call__(self, x, t):\n",
    "        out = self.linear(x)\n",
    "        value = jax.vmap(self.embedding)(t)[0]\n",
    "        result = out * value\n",
    "        return result\n",
    "\n",
    "\n",
    "class TimeConditionedMLP(eqx.Module):\n",
    "    \"\"\"Simple MLP\"\"\"\n",
    "    fc1: TimeConditionedLinear\n",
    "    fc2: TimeConditionedLinear\n",
    "    fc3: eqx.nn.Linear\n",
    "\n",
    "    def __init__(self, in_dim, out_dim, t_dim, key, hidden_dim=128):\n",
    "        keys = jax.random.split(key, 3)\n",
    "        self.fc1 = TimeConditionedLinear(in_dim, hidden_dim, t_dim, key=keys[0])\n",
    "        self.fc2 = TimeConditionedLinear(hidden_dim, hidden_dim, t_dim, key=keys[1])\n",
    "        self.fc3 = eqx.nn.Linear(hidden_dim, out_dim, key=keys[2])\n",
    "\n",
    "    def __call__(self, x, t):\n",
    "        x = jax.nn.gelu(self.fc1(x, t))\n",
    "        x = jax.nn.gelu(self.fc2(x, t))\n",
    "        x = self.fc3(x)\n",
    "        return x"
   ]
  },
  {
   "cell_type": "markdown",
   "metadata": {},
   "source": [
    "In the training we will apply one more additional modification. We define the model and loss function such that \n",
    "the model predicts the noise in each step. There is a nice but somewhat lenghty derivation in the Deepia \n",
    "video above and in the DDPM paper. \n",
    "\n",
    "But just intuitively: the model is trained to predict the noise in each step. In the sampling process we can\n",
    "then just subtract the noise from the current iteration and get a less noisy version of the data. If we\n",
    "do this iteratively we arrive at a final denoised sample of the data distribution, matching the process\n",
    "illustrated in the figure at the top.\n",
    "\n",
    "Ok let's implement this in code:"
   ]
  },
  {
   "cell_type": "code",
   "execution_count": 31,
   "metadata": {},
   "outputs": [],
   "source": [
    "n_t_steps = 100 # number of time steps\n",
    "betas = jnp.geomspace(1e-4, 0.9999, n_t_steps)\n",
    "alphas = 1.0 - betas\n",
    "alpha_bars = jnp.cumprod(alphas)"
   ]
  },
  {
   "cell_type": "code",
   "execution_count": 32,
   "metadata": {},
   "outputs": [],
   "source": [
    "model_cond = TimeConditionedMLP(2, 2, t_dim=n_t_steps, key=jax.random.key(23))\n",
    "\n",
    "optimizer = optax.adam(learning_rate=1e-3)\n",
    "opt_state = optimizer.init(model_cond)"
   ]
  },
  {
   "cell_type": "code",
   "execution_count": null,
   "metadata": {},
   "outputs": [],
   "source": [
    "n_iter = 20_000\n",
    "\n",
    "\n",
    "def mse_loss(model, x, t, noise):\n",
    "    \"\"\"Mean squared losss\"\"\"\n",
    "    pred = jax.vmap(model)(x, t)\n",
    "    return ((pred - noise) ** 2).mean()\n",
    "\n",
    "\n",
    "@eqx.filter_jit\n",
    "def make_step(model, opt_state, x, t, noise):\n",
    "    \"\"\"Make a single update step\"\"\"\n",
    "    loss_value, grads = eqx.filter_value_and_grad(mse_loss)(model, x, t, noise)\n",
    "    updates, opt_state = optimizer.update(\n",
    "        grads, opt_state, eqx.filter(model, eqx.is_array)\n",
    "    )\n",
    "    model = eqx.apply_updates(model, updates)\n",
    "    return model, opt_state, loss_value\n",
    "\n",
    "\n",
    "key = jax.random.PRNGKey(1234)\n",
    "\n",
    "for idx in range(n_iter):\n",
    "    key, subkey = random.split(key)\n",
    "    noise = jax.random.normal(subkey, shape=x.shape)\n",
    "\n",
    "    key, subkey = random.split(key)\n",
    "    t = jax.random.randint(subkey, minval=0, maxval=n_t_steps, shape=(x.shape[0], 1))\n",
    "\n",
    "    x_diffused = jnp.sqrt(alpha_bars[t]) * x + jnp.sqrt(1 - alpha_bars[t]) * noise\n",
    "\n",
    "    model_cond, opt_state, train_loss = make_step(model_cond, opt_state, x_diffused, t, noise)\n",
    "    print(f\"Iter {idx}, loss: {train_loss:.4f}\", end=\"\\r\")"
   ]
  },
  {
   "cell_type": "markdown",
   "metadata": {},
   "source": [
    "Now we can visualize the diffused data along with the time dependent score model function:"
   ]
  },
  {
   "cell_type": "code",
   "execution_count": null,
   "metadata": {},
   "outputs": [],
   "source": [
    "fig, axes = plt.subplots(nrows=5, ncols=5, figsize=(12, 12))\n",
    "\n",
    "for idx, ax in enumerate(axes.flat):\n",
    "    ax.scatter(x_diffused_example[:, idx, 0], x_diffused_example[:, idx, 1], s=1)\n",
    "    ax.set_title(f\"Step {idx}\", fontdict={\"size\": 10}, pad=3)\n",
    "    ax.set_xticks([])\n",
    "    ax.set_yticks([])\n",
    "\n",
    "    model_cond_at_time_t = partial(model_cond, t=jnp.array([idx]))\n",
    "    plot_vector_field(model_cond_at_time_t, ax=ax, x_range=(-2, 2, 20), y_range=(-2, 2, 20), color=\"red\")\n",
    "    ax.set_xlim(-2, 2)\n",
    "    ax.set_ylim(-2, 2)\n",
    "\n",
    "plt.savefig(\"images/time-dependent-gradient-field.png\", dpi=300)"
   ]
  },
  {
   "cell_type": "markdown",
   "metadata": {},
   "source": [
    "You can see that the vector field now changes with time: at late steps it corresponds to a field with a single \"sink\", where all sample are moved towards too, and than gradually there is more detailed structure introduced. In computational imaging this is also sometimes called a \"coarse to fine\" scheme.  \n",
    "\n",
    "Now let's implement the sampling algorithm (aka \"reverse process\"). It is basically equivalent to the Langevin sampling, except that our \"hyper-parameters\" $\\alpha_0$ and $p_0$ are replaced by well defined combinations of the $\\beta$, $\\alpha$ and $\\bar{\\alpha}$ parameters also describing the forward diffusion process. Also we have to make sure to actually reverse the process in time:"
   ]
  },
  {
   "cell_type": "code",
   "execution_count": 35,
   "metadata": {},
   "outputs": [],
   "source": [
    "Args = namedtuple(\"Args\", [\"key\", \"idx\", \"x\", \"alphas\", \"betas\", \"alpha_bars\"])\n",
    "\n",
    "\n",
    "\n",
    "def sample(model, args, _):\n",
    "    key, subkey = random.split(args.key)\n",
    "\n",
    "    alpha, alpha_bar, beta = args.alphas[args.idx], args.alpha_bars[args.idx], args.betas[args.idx]\n",
    "\n",
    "    model_cond_at_time_t = partial(model, t=jnp.array([args.idx]))\n",
    "    dx = jax.vmap(model_cond_at_time_t)(x=args.x)\n",
    "    \n",
    "    eps = random.normal(subkey, args.x.shape)\n",
    "    eps = jnp.where(args.idx == 0, 0, eps)\n",
    "  \n",
    "    x = 1. / jnp.sqrt(alpha) * (args.x - (beta / jnp.sqrt(1 - alpha_bar)) * dx) + jnp.sqrt(beta) * eps\n",
    "    \n",
    "    return Args(key, args.idx - 1, x, args.alphas, args.betas, args.alpha_bars), x\n",
    "\n",
    "\n",
    "n_samples = 10_000\n",
    "\n",
    "key = random.PRNGKey(42)\n",
    "key, subkey = random.split(key)\n",
    "\n",
    "init = Args(\n",
    "    key=key,\n",
    "    idx=n_t_steps - 1,\n",
    "    x=random.normal(subkey, (n_samples, 2)),\n",
    "    alphas=1 - betas,\n",
    "    betas=betas,\n",
    "    alpha_bars=jnp.cumprod(alphas),\n",
    ")\n",
    "\n",
    "result, sample_trace = jax.lax.scan(partial(sample, model_cond), init, length=n_t_steps)"
   ]
  },
  {
   "cell_type": "markdown",
   "metadata": {},
   "source": [
    "Now let's visualize the final samples:"
   ]
  },
  {
   "cell_type": "code",
   "execution_count": null,
   "metadata": {},
   "outputs": [],
   "source": [
    "def animate_trajectory(x, filename, x_range=(-2, 2), y_range=(-2, 2), **kwargs):\n",
    "    \"\"\"Animate diffusion trajectory\"\"\"\n",
    "    fig, ax = plt.subplots()\n",
    "\n",
    "    kwargs.setdefault(\"markersize\", 0.2)\n",
    "    kwargs.setdefault(\"linestyle\", \"\")\n",
    "    kwargs.setdefault(\"marker\", \"o\")\n",
    "\n",
    "    line, = ax.plot([], [], **kwargs)\n",
    "    ax.set_aspect('equal')\n",
    "    ax.set_xlim(*x_range)\n",
    "    ax.set_ylim(*y_range)\n",
    "    ax.set_xlabel('x')\n",
    "    ax.set_ylabel('y')\n",
    "\n",
    "    def animate(idx):\n",
    "        line.set_data(x[idx, :, 0], x[idx, :, 1]) # Update line data\n",
    "        return line,\n",
    "\n",
    "    ani = animation.FuncAnimation(fig, animate, frames=len(x), interval=100, blit=True)\n",
    "    ani.save(filename, writer='ffmpeg')\n",
    "\n",
    "ax = plt.subplot()\n",
    "\n",
    "idx = -1\n",
    "ax.scatter(sample_trace[idx, :, 0], sample_trace[idx, :, 1], s=1)\n",
    "ax.set_aspect('equal')\n",
    "scale = 2\n",
    "ax.set_xlim(-scale, scale)\n",
    "ax.set_ylim(-scale, scale)\n",
    "ax.set_xlabel(\"x\")\n",
    "ax.set_ylabel(\"y\")"
   ]
  },
  {
   "cell_type": "code",
   "execution_count": null,
   "metadata": {},
   "outputs": [],
   "source": [
    "animate_trajectory(sample_trace, \"images/ddpm-swiss-roll-animation.gif\");"
   ]
  },
  {
   "cell_type": "markdown",
   "metadata": {},
   "source": [
    "Here is what teh animation looks like:\n",
    "\n",
    "![animation](images/ddpm-swiss-roll-animation.gif)"
   ]
  },
  {
   "cell_type": "markdown",
   "metadata": {},
   "source": [
    "This looks much better than the earlier attempt without the time dependences!\n",
    "\n",
    "Now we have covered all the necessary ideas for understanding diffusion models. The main advantage of diffusion models \n",
    "is the quality / accuray of the sampling. The main disadvantage is that the sampling is rather slow. To arrive at the\n",
    "final sample we evaluated the model as much times as we had time steps instead of as single evaluation. For \"real\" large\n",
    "scale model the nnumber of time steps can be as high as 1000 or more. However the working principle for the larger\n",
    "production models is exactly the same!\n",
    "\n",
    "Here are some of the relevant differences:\n",
    "\n",
    "- \"Real\" diffusion models are higher dimensional: for images the dimension is a high as the number of pixels\n",
    "- Instead of an MLP they typically use some time conditioned U-Net architecture.\n",
    "- There are different ways to schedue the variance parameter $\\beta$, such as following a cosine\n",
    "- Scaling up requires handling GPUs etc.\n",
    "- It is also common pratcice to use exponential moving weight averaging (EMA)\n",
    "\n",
    "Here are some links with larger scaled implementations\n",
    "- https://github.com/ytdeepia/DDPM\n",
    "- https://github.com/yang-song/score_sde ()\n",
    "\n",
    "There is a nice connection between diffusion models and stochastic differential equations (SED): instead of the discreete time handling we introduced above one can handle the time as a continues variable and use OED solvers to handle the sampling process. A nice minimal examples is given in the Equinox documentation:\n",
    "\n",
    "- https://docs.kidger.site/equinox/examples/score_based_diffusion/\n",
    "\n",
    "\n",
    "Thanks for the attention, I hope this was useful! If you have any further questions or comments please open an issue in this repo or reach out at one of the [contacts](https://axeldonath.com/contact.html) given on my website."
   ]
  },
  {
   "cell_type": "markdown",
   "metadata": {},
   "source": []
  }
 ],
 "metadata": {
  "kernelspec": {
   "display_name": "Python 3 (ipykernel)",
   "language": "python",
   "name": "python3"
  },
  "language_info": {
   "codemirror_mode": {
    "name": "ipython",
    "version": 3
   },
   "file_extension": ".py",
   "mimetype": "text/x-python",
   "name": "python",
   "nbconvert_exporter": "python",
   "pygments_lexer": "ipython3",
   "version": "3.12.1"
  }
 },
 "nbformat": 4,
 "nbformat_minor": 4
}
